{
 "cells": [
  {
   "cell_type": "code",
   "execution_count": 1,
   "id": "02843ff9-bf8a-48d2-8627-eb17b681f4da",
   "metadata": {},
   "outputs": [],
   "source": [
    "import sys"
   ]
  },
  {
   "cell_type": "code",
   "execution_count": 2,
   "id": "e335dc72-1da7-4f15-9437-f0e46f381503",
   "metadata": {},
   "outputs": [],
   "source": [
    "sys.path.append('..')"
   ]
  },
  {
   "cell_type": "code",
   "execution_count": 3,
   "id": "6c0f0077-a622-40a2-aa20-e5ccbef13b1e",
   "metadata": {},
   "outputs": [],
   "source": [
    "from galaxyEmulator.config import *\n",
    "from galaxyEmulator.preprocess import *\n",
    "from galaxyEmulator.postprocess import *"
   ]
  },
  {
   "cell_type": "code",
   "execution_count": 4,
   "id": "1dc75303-13e6-4754-b507-bf11a03f33e8",
   "metadata": {},
   "outputs": [],
   "source": [
    "# read configuration from templates\n",
    "configuration = Configuration('../Data/config/config_main.ini')"
   ]
  },
  {
   "cell_type": "code",
   "execution_count": 5,
   "id": "cbc0a8c0-1bea-4f02-93b5-697f243adea0",
   "metadata": {},
   "outputs": [
    {
     "name": "stdout",
     "output_type": "stream",
     "text": [
      "Please edit config_CSST.ini\n",
      "\u001b[32mConflicts on config are indicated in\u001b[0m \u001b[31mRED\u001b[0m\n"
     ]
    }
   ],
   "source": [
    "# get configurations\n",
    "conf = configuration.get_config()"
   ]
  },
  {
   "cell_type": "code",
   "execution_count": 6,
   "id": "56db881e",
   "metadata": {},
   "outputs": [
    {
     "data": {
      "text/plain": [
       "{'dataDir': '../Data',\n",
       " 'filePath': '../../TNG-100',\n",
       " 'workingDir': 'run',\n",
       " 'simulationMode': 'ExtinctionOnly',\n",
       " 'includeDust': False,\n",
       " 'dustEmissionType': 'Equilibrium',\n",
       " 'dustModel': 'ZubkoDustMix',\n",
       " 'minWavelength': '0.1',\n",
       " 'maxWavelength': '1.2',\n",
       " 'boxLengthScale': '20',\n",
       " 'maxBoxLength': '300',\n",
       " 'wavelengthGrid': 'Linear',\n",
       " 'numWavelengths': '300',\n",
       " 'minLevel': '6',\n",
       " 'maxLevel': '10',\n",
       " 'numPackets': '1e7',\n",
       " 'SEDFamily': 'BC03',\n",
       " 'initialMassFunction': 'Chabrier',\n",
       " 'minStellarMass': '1',\n",
       " 'maxStellarMass': 'inf',\n",
       " 'numViews': '3',\n",
       " 'randomViews': True,\n",
       " 'inclinations': '0,90,180',\n",
       " 'azimuths': '0,90,180',\n",
       " 'FoVboxLengthRatio': '1',\n",
       " 'postProcessing': True,\n",
       " 'saveDataCube': True,\n",
       " 'spatialResol': '100',\n",
       " 'surveys': 'CSST',\n",
       " 'displaySED': True,\n",
       " 'displaySEDxlogscale': True,\n",
       " 'snapNum': '94',\n",
       " 'fixedRedshift': '0.06',\n",
       " 'numThreads': '12',\n",
       " 'recordComponents': False,\n",
       " 'ageThreshold': '10',\n",
       " 'ratioSFR': '10**7',\n",
       " 'logCompactness': '5',\n",
       " 'logPressure': '5',\n",
       " 'coveringFactor': '0.2',\n",
       " 'temperatureThreshold': '10000',\n",
       " 'numSilicateSizes': '15',\n",
       " 'numGraphiteSizes': '15',\n",
       " 'numPAHSizes': '15',\n",
       " 'numHydrocarbonSizes': '15',\n",
       " 'filters_CSST': 'NUV,u,g,r,i,z,y',\n",
       " 'resolFromPix_CSST': True,\n",
       " 'resolution_CSST': '0',\n",
       " 'pixelScales_CSST': '0.074',\n",
       " 'numExposure_CSST': '4,2,2,2,2,2,4',\n",
       " 'exposureTime_CSST': '150',\n",
       " 'aperture_CSST': '2.0',\n",
       " 'includePSF_CSST': True,\n",
       " 'PSFFromFile_CSST': True,\n",
       " 'PSFFWHM_CSST': '0',\n",
       " 'includeBkg_CSST': True,\n",
       " 'bkgNoise_CSST': '10.65,7.84,9.93,10.59,10.59,9.56,11.53',\n",
       " 'imgDisplay_CSST': True,\n",
       " 'RGBImg_CSST': True,\n",
       " 'RGBFilters_CSST': 'g,r,z'}"
      ]
     },
     "execution_count": 6,
     "metadata": {},
     "output_type": "execute_result"
    }
   ],
   "source": [
    "conf"
   ]
  },
  {
   "cell_type": "code",
   "execution_count": 7,
   "id": "0dea3267-7984-4083-92fa-c12dad6726bb",
   "metadata": {},
   "outputs": [],
   "source": [
    "# initialize PreProcess class\n",
    "preprocess = PreProcess(conf)"
   ]
  },
  {
   "cell_type": "code",
   "execution_count": 8,
   "id": "37e9de96-3a73-4689-9841-d70d6e7148fa",
   "metadata": {},
   "outputs": [
    {
     "name": "stdout",
     "output_type": "stream",
     "text": [
      "6041 subhalos in snapshot 94 in stellar mass from 1.0 to inf [10^10 M_sun]\n"
     ]
    }
   ],
   "source": [
    "# get subhalos following conditions indicated in config\n",
    "preprocess.get_subhalos()"
   ]
  },
  {
   "cell_type": "code",
   "execution_count": 9,
   "id": "f0a76984-be09-41d6-b2e7-021cb9f9dc3e",
   "metadata": {},
   "outputs": [
    {
     "data": {
      "text/plain": [
       "array([     0,      1,      2, ..., 644966, 646870, 649674])"
      ]
     },
     "execution_count": 9,
     "metadata": {},
     "output_type": "execute_result"
    }
   ],
   "source": [
    "# get subhaloIDs\n",
    "preprocess.get_subhaloIDs()"
   ]
  },
  {
   "cell_type": "code",
   "execution_count": 10,
   "id": "8f8b15a3",
   "metadata": {},
   "outputs": [
    {
     "name": "stdout",
     "output_type": "stream",
     "text": [
      "Stellar Mass of Subhalo 649674 is 1.259705901145935 [10^10 M_sun]\n",
      "Retrieving Stellar and Gas particles.\n",
      "Star-forming star particles: 0\n",
      "Quenched star particles: 13399\n",
      "Creating .ski file.\n",
      "------estimate memory usage------\n",
      "numViews: 3\n",
      "numSpatialPixels: 481\n",
      "numWavelengthPixels: 300\n",
      "Estimated memory usage: 1.666 GB\n",
      "Running SKIRT\n",
      "29/10/2024 06:03:04.968   Welcome to SKIRT v9.0 (git 382ad4b built on 15/08/2024 at 01:46:45)\n",
      "29/10/2024 06:03:04.968   Running on 2488h for xczhou\n",
      "29/10/2024 06:03:04.968   Constructing a simulation from ski file 'skirt.ski'...\n",
      "29/10/2024 06:03:05.022   Starting simulation skirt using 12 threads and a single process...\n",
      "29/10/2024 06:03:05.022   Starting setup...\n",
      "29/10/2024 06:03:05.023     Panchromatic wavelength regime\n",
      "29/10/2024 06:03:05.023     With transfer medium\n",
      "29/10/2024 06:03:05.023     Redshift: 0.06\n",
      "29/10/2024 06:03:05.023     Luminosity distance: 277.531 Mpc\n",
      "29/10/2024 06:03:05.023     Model and grid symmetry: 3D\n",
      "29/10/2024 06:03:05.023     Photon life cycle: no explicit absorption; with forced scattering\n",
      "29/10/2024 06:03:05.023   BruzualCharlotSEDFamily opened stored table /share/xczhou/SKIRT/resources/SKIRT9_Resources_Core/SED/BruzualCharlotSEDFamily_Chabrier_hr.stab\n",
      "29/10/2024 06:03:05.023   ParticleSource reads smoothed source particles from text file /share/xczhou/illustris/galaxyEmulator/Notebooks/run/quenched_stars.txt...\n",
      "29/10/2024 06:03:05.023     Column 1: position x (kpc) <-- x-coordinate\n",
      "29/10/2024 06:03:05.023     Column 2: position y (kpc) <-- y-coordinate\n",
      "29/10/2024 06:03:05.023     Column 3: position z (kpc) <-- z-coordinate\n",
      "29/10/2024 06:03:05.023     Column 4: size h (kpc) <-- smoothing length\n",
      "29/10/2024 06:03:05.023     Column 5: initial mass (Msun) <-- initial mass\n",
      "29/10/2024 06:03:05.023     Column 6: metallicity (1) <-- metallicity\n",
      "29/10/2024 06:03:05.023     Column 7: age (Myr) <-- age\n",
      "29/10/2024 06:03:05.074   Done reading\n",
      "29/10/2024 06:03:05.074     Number of particles: 13399\n",
      "29/10/2024 06:03:05.074   Calculating luminosities for 13399 imported entities...\n",
      "29/10/2024 06:03:06.253   MappingsSEDFamily opened stored table /share/xczhou/SKIRT/resources/SKIRT9_Resources_Core/SED/MappingsSEDFamily.stab\n",
      "29/10/2024 06:03:06.253   ParticleSource reads smoothed source particles from text file /share/xczhou/illustris/galaxyEmulator/Notebooks/run/starforming_stars.txt...\n",
      "29/10/2024 06:03:06.253     Column 1: position x (kpc) <-- x-coordinate\n",
      "29/10/2024 06:03:06.253     Column 2: position y (kpc) <-- y-coordinate\n",
      "29/10/2024 06:03:06.253     Column 3: position z (kpc) <-- z-coordinate\n",
      "29/10/2024 06:03:06.253     Column 4: size h (kpc) <-- smoothing length\n",
      "29/10/2024 06:03:06.253     Column 5: star formation rate (Msun/yr) <-- star formation rate\n",
      "29/10/2024 06:03:06.253     Column 6: metallicity (1) <-- metallicity\n",
      "29/10/2024 06:03:06.253     Column 7: compactness (1) <-- compactness\n",
      "29/10/2024 06:03:06.253     Column 8: pressure (J/m3) <-- pressure\n",
      "29/10/2024 06:03:06.253     Column 9: covering factor (1) <-- coveringFactor\n",
      "29/10/2024 06:03:06.253   Done reading\n",
      "29/10/2024 06:03:06.253     Number of particles: 0\n",
      "29/10/2024 06:03:06.254   ZubkoDustMix opened stored table /share/xczhou/SKIRT/resources/SKIRT9_Resources_Core/OpticalProps/DraineSilicateOpticalProps.stab\n",
      "29/10/2024 06:03:06.400   ZubkoDustMix opened stored table /share/xczhou/SKIRT/resources/SKIRT9_Resources_Core/OpticalProps/DraineGraphiteOpticalProps.stab\n",
      "29/10/2024 06:03:06.525   ZubkoDustMix opened stored table /share/xczhou/SKIRT/resources/SKIRT9_Resources_Core/OpticalProps/DraineNeutralPAHOpticalProps.stab\n",
      "29/10/2024 06:03:06.571   ZubkoDustMix opened stored table /share/xczhou/SKIRT/resources/SKIRT9_Resources_Core/OpticalProps/DraineIonizedPAHOpticalProps.stab\n",
      "29/10/2024 06:03:06.618   ZubkoDustMix allocated 43.8 KB of memory\n",
      "29/10/2024 06:03:06.618   ParticleMedium reads smoothed particles from text file /share/xczhou/illustris/galaxyEmulator/Notebooks/run/dusts.txt...\n",
      "29/10/2024 06:03:06.618     Column 1: position x (kpc) <-- x-coordinate\n",
      "29/10/2024 06:03:06.618     Column 2: position y (kpc) <-- y-coordinate\n",
      "29/10/2024 06:03:06.618     Column 3: position z (kpc) <-- z-coordinate\n",
      "29/10/2024 06:03:06.618     Column 4: size h (kpc) <-- smoothing length\n",
      "29/10/2024 06:03:06.618     Column 5: mass (Msun) <-- initial mass\n",
      "29/10/2024 06:03:06.618     Column 6: metallicity (1) <-- metallicity\n",
      "29/10/2024 06:03:06.618   Done reading\n",
      "29/10/2024 06:03:06.618     Number of particles: 0\n",
      "29/10/2024 06:03:06.618     Total original mass : 0.0000e+00 Msun\n",
      "29/10/2024 06:03:06.618     Total metallic mass : 0.0000e+00 Msun\n",
      "29/10/2024 06:03:06.618     Total effective mass: 0.0000e+00 Msun\n",
      "29/10/2024 06:03:06.618   Constructing intermediate 20x20x20 grid for particles...\n",
      "29/10/2024 06:03:06.618     Smallest number of particles per cell: 0\n",
      "29/10/2024 06:03:06.618     Largest  number of particles per cell: 0\n",
      "29/10/2024 06:03:06.618     Average  number of particles per cell: 0.0\n",
      "29/10/2024 06:03:06.618   Constructing the spatial tree grid...\n",
      "29/10/2024 06:03:06.618   Subdividing level 0: 1 nodes\n",
      "29/10/2024 06:03:06.618   Subdividing level 1: 8 nodes\n",
      "29/10/2024 06:03:06.618   Subdividing level 2: 64 nodes\n",
      "29/10/2024 06:03:06.618   Subdividing level 3: 512 nodes\n",
      "29/10/2024 06:03:06.622   Subdividing level 4: 4096 nodes\n",
      "29/10/2024 06:03:06.650   Subdividing level 5: 32768 nodes\n",
      "29/10/2024 06:03:06.886   Subdividing level 6: 262144 nodes\n",
      "29/10/2024 06:03:07.229   Finished construction of the spatial tree grid\n",
      "29/10/2024 06:03:07.229   Number of cells at each level in the tree hierarchy:\n",
      "29/10/2024 06:03:07.229     Level  0:        0 (  0.0%)  |\n",
      "29/10/2024 06:03:07.229     Level  1:        0 (  0.0%)  |\n",
      "29/10/2024 06:03:07.229     Level  2:        0 (  0.0%)  |\n",
      "29/10/2024 06:03:07.229     Level  3:        0 (  0.0%)  |\n",
      "29/10/2024 06:03:07.229     Level  4:        0 (  0.0%)  |\n",
      "29/10/2024 06:03:07.229     Level  5:        0 (  0.0%)  |\n",
      "29/10/2024 06:03:07.229     Level  6:   262144 (100.0%)  |********************\n",
      "29/10/2024 06:03:07.229     TOTAL   :   262144 (100.0%)\n",
      "29/10/2024 06:03:07.231   MediumSystem allocated 4 MB of memory\n",
      "29/10/2024 06:03:07.231   Calculating medium properties for 262144 cells...\n",
      "29/10/2024 06:03:07.433   Done calculating cell densities\n",
      "29/10/2024 06:03:07.677   FullInstrument view_00 allocated 530 MB of memory\n",
      "29/10/2024 06:03:07.919   FullInstrument view_01 allocated 530 MB of memory\n",
      "29/10/2024 06:03:08.161   FullInstrument view_02 allocated 530 MB of memory\n",
      "\u001b[32m29/10/2024 06:03:08.161 - Finished setup in 3.1 s.\n",
      "\u001b[0m29/10/2024 06:03:08.161   Starting setup output...\n",
      "\u001b[32m29/10/2024 06:03:08.161 - Finished setup output in 0.0 s.\n",
      "\u001b[0m29/10/2024 06:03:08.161   Starting the run...\n",
      "29/10/2024 06:03:08.161   Starting primary emission...\n",
      "29/10/2024 06:03:08.161   Launching 1e7 primary emission photon packets\n",
      "29/10/2024 06:03:13.163   Launched primary emission photon packets: 28.9%\n",
      "29/10/2024 06:03:18.164   Launched primary emission photon packets: 57.0%\n",
      "\u001b[32m29/10/2024 06:03:22.822 - Finished primary emission in 14.7 s.\n",
      "\u001b[0m\u001b[32m29/10/2024 06:03:22.822 - Finished the run in 14.7 s.\n",
      "\u001b[0m29/10/2024 06:03:22.822   Starting final output...\n",
      "29/10/2024 06:03:22.939   FullInstrument view_00 wrote SED to /share/xczhou/illustris/galaxyEmulator/Notebooks/run/skirt_view_00_sed.dat\n",
      "29/10/2024 06:03:23.234   FullInstrument view_00 wrote total flux to FITS file /share/xczhou/illustris/galaxyEmulator/Notebooks/run/skirt_view_00_total.fits\n",
      "29/10/2024 06:03:23.334   FullInstrument view_01 wrote SED to /share/xczhou/illustris/galaxyEmulator/Notebooks/run/skirt_view_01_sed.dat\n",
      "29/10/2024 06:03:23.614   FullInstrument view_01 wrote total flux to FITS file /share/xczhou/illustris/galaxyEmulator/Notebooks/run/skirt_view_01_total.fits\n",
      "29/10/2024 06:03:23.712   FullInstrument view_02 wrote SED to /share/xczhou/illustris/galaxyEmulator/Notebooks/run/skirt_view_02_sed.dat\n",
      "29/10/2024 06:03:23.982   FullInstrument view_02 wrote total flux to FITS file /share/xczhou/illustris/galaxyEmulator/Notebooks/run/skirt_view_02_total.fits\n",
      "\u001b[32m29/10/2024 06:03:23.982 - Finished final output in 1.2 s.\n",
      "\u001b[0m\u001b[32m29/10/2024 06:03:23.982 - Finished simulation skirt using 12 threads and a single process in 19.0 s.\n",
      "\u001b[0m29/10/2024 06:03:24.357   Available memory: 503 GB -- Peak memory usage: 1.75 GB (0.3%)\n",
      "Run Postprocessing\n",
      "Postprocessing finished! Clearing workingDir!\n",
      "Stellar Mass of Subhalo 646870 is 1.0971862077713013 [10^10 M_sun]\n",
      "Retrieving Stellar and Gas particles.\n",
      "Star-forming star particles: 0\n",
      "Quenched star particles: 11310\n",
      "Creating .ski file.\n",
      "------estimate memory usage------\n",
      "numViews: 3\n",
      "numSpatialPixels: 502\n",
      "numWavelengthPixels: 300\n",
      "Estimated memory usage: 1.814 GB\n",
      "Running SKIRT\n",
      "29/10/2024 06:03:30.335   Welcome to SKIRT v9.0 (git 382ad4b built on 15/08/2024 at 01:46:45)\n",
      "29/10/2024 06:03:30.335   Running on 2488h for xczhou\n",
      "29/10/2024 06:03:30.335   Constructing a simulation from ski file 'skirt.ski'...\n",
      "29/10/2024 06:03:30.392   Starting simulation skirt using 12 threads and a single process...\n",
      "29/10/2024 06:03:30.392   Starting setup...\n",
      "29/10/2024 06:03:30.392     Panchromatic wavelength regime\n",
      "29/10/2024 06:03:30.392     With transfer medium\n",
      "29/10/2024 06:03:30.392     Redshift: 0.06\n",
      "29/10/2024 06:03:30.392     Luminosity distance: 277.531 Mpc\n",
      "29/10/2024 06:03:30.392     Model and grid symmetry: 3D\n",
      "29/10/2024 06:03:30.392     Photon life cycle: no explicit absorption; with forced scattering\n",
      "29/10/2024 06:03:30.392   BruzualCharlotSEDFamily opened stored table /share/xczhou/SKIRT/resources/SKIRT9_Resources_Core/SED/BruzualCharlotSEDFamily_Chabrier_hr.stab\n",
      "29/10/2024 06:03:30.392   ParticleSource reads smoothed source particles from text file /share/xczhou/illustris/galaxyEmulator/Notebooks/run/quenched_stars.txt...\n",
      "29/10/2024 06:03:30.392     Column 1: position x (kpc) <-- x-coordinate\n",
      "29/10/2024 06:03:30.392     Column 2: position y (kpc) <-- y-coordinate\n",
      "29/10/2024 06:03:30.392     Column 3: position z (kpc) <-- z-coordinate\n",
      "29/10/2024 06:03:30.392     Column 4: size h (kpc) <-- smoothing length\n",
      "29/10/2024 06:03:30.392     Column 5: initial mass (Msun) <-- initial mass\n",
      "29/10/2024 06:03:30.392     Column 6: metallicity (1) <-- metallicity\n",
      "29/10/2024 06:03:30.392     Column 7: age (Myr) <-- age\n",
      "29/10/2024 06:03:30.436   Done reading\n",
      "29/10/2024 06:03:30.436     Number of particles: 11310\n",
      "29/10/2024 06:03:30.436   Calculating luminosities for 11310 imported entities...\n",
      "29/10/2024 06:03:31.461   MappingsSEDFamily opened stored table /share/xczhou/SKIRT/resources/SKIRT9_Resources_Core/SED/MappingsSEDFamily.stab\n",
      "29/10/2024 06:03:31.461   ParticleSource reads smoothed source particles from text file /share/xczhou/illustris/galaxyEmulator/Notebooks/run/starforming_stars.txt...\n",
      "29/10/2024 06:03:31.461     Column 1: position x (kpc) <-- x-coordinate\n",
      "29/10/2024 06:03:31.461     Column 2: position y (kpc) <-- y-coordinate\n",
      "29/10/2024 06:03:31.461     Column 3: position z (kpc) <-- z-coordinate\n",
      "29/10/2024 06:03:31.461     Column 4: size h (kpc) <-- smoothing length\n",
      "29/10/2024 06:03:31.461     Column 5: star formation rate (Msun/yr) <-- star formation rate\n",
      "29/10/2024 06:03:31.461     Column 6: metallicity (1) <-- metallicity\n",
      "29/10/2024 06:03:31.461     Column 7: compactness (1) <-- compactness\n",
      "29/10/2024 06:03:31.461     Column 8: pressure (J/m3) <-- pressure\n",
      "29/10/2024 06:03:31.461     Column 9: covering factor (1) <-- coveringFactor\n",
      "29/10/2024 06:03:31.461   Done reading\n",
      "29/10/2024 06:03:31.461     Number of particles: 0\n",
      "29/10/2024 06:03:31.462   ZubkoDustMix opened stored table /share/xczhou/SKIRT/resources/SKIRT9_Resources_Core/OpticalProps/DraineSilicateOpticalProps.stab\n",
      "29/10/2024 06:03:31.609   ZubkoDustMix opened stored table /share/xczhou/SKIRT/resources/SKIRT9_Resources_Core/OpticalProps/DraineGraphiteOpticalProps.stab\n",
      "29/10/2024 06:03:31.724   ZubkoDustMix opened stored table /share/xczhou/SKIRT/resources/SKIRT9_Resources_Core/OpticalProps/DraineNeutralPAHOpticalProps.stab\n",
      "29/10/2024 06:03:31.771   ZubkoDustMix opened stored table /share/xczhou/SKIRT/resources/SKIRT9_Resources_Core/OpticalProps/DraineIonizedPAHOpticalProps.stab\n",
      "29/10/2024 06:03:31.817   ZubkoDustMix allocated 43.8 KB of memory\n",
      "29/10/2024 06:03:31.817   ParticleMedium reads smoothed particles from text file /share/xczhou/illustris/galaxyEmulator/Notebooks/run/dusts.txt...\n",
      "29/10/2024 06:03:31.817     Column 1: position x (kpc) <-- x-coordinate\n",
      "29/10/2024 06:03:31.817     Column 2: position y (kpc) <-- y-coordinate\n",
      "29/10/2024 06:03:31.817     Column 3: position z (kpc) <-- z-coordinate\n",
      "29/10/2024 06:03:31.817     Column 4: size h (kpc) <-- smoothing length\n",
      "29/10/2024 06:03:31.817     Column 5: mass (Msun) <-- initial mass\n",
      "29/10/2024 06:03:31.817     Column 6: metallicity (1) <-- metallicity\n",
      "29/10/2024 06:03:31.817   Done reading\n",
      "29/10/2024 06:03:31.817     Number of particles: 0\n",
      "29/10/2024 06:03:31.817     Total original mass : 0.0000e+00 Msun\n",
      "29/10/2024 06:03:31.817     Total metallic mass : 0.0000e+00 Msun\n",
      "29/10/2024 06:03:31.817     Total effective mass: 0.0000e+00 Msun\n",
      "29/10/2024 06:03:31.817   Constructing intermediate 20x20x20 grid for particles...\n",
      "29/10/2024 06:03:31.817     Smallest number of particles per cell: 0\n",
      "29/10/2024 06:03:31.817     Largest  number of particles per cell: 0\n",
      "29/10/2024 06:03:31.817     Average  number of particles per cell: 0.0\n",
      "29/10/2024 06:03:31.817   Constructing the spatial tree grid...\n",
      "29/10/2024 06:03:31.817   Subdividing level 0: 1 nodes\n",
      "29/10/2024 06:03:31.817   Subdividing level 1: 8 nodes\n",
      "29/10/2024 06:03:31.817   Subdividing level 2: 64 nodes\n",
      "29/10/2024 06:03:31.818   Subdividing level 3: 512 nodes\n",
      "29/10/2024 06:03:31.821   Subdividing level 4: 4096 nodes\n",
      "29/10/2024 06:03:31.849   Subdividing level 5: 32768 nodes\n",
      "29/10/2024 06:03:32.086   Subdividing level 6: 262144 nodes\n",
      "29/10/2024 06:03:32.435   Finished construction of the spatial tree grid\n",
      "29/10/2024 06:03:32.435   Number of cells at each level in the tree hierarchy:\n",
      "29/10/2024 06:03:32.436     Level  0:        0 (  0.0%)  |\n",
      "29/10/2024 06:03:32.436     Level  1:        0 (  0.0%)  |\n",
      "29/10/2024 06:03:32.436     Level  2:        0 (  0.0%)  |\n",
      "29/10/2024 06:03:32.436     Level  3:        0 (  0.0%)  |\n",
      "29/10/2024 06:03:32.436     Level  4:        0 (  0.0%)  |\n",
      "29/10/2024 06:03:32.436     Level  5:        0 (  0.0%)  |\n",
      "29/10/2024 06:03:32.436     Level  6:   262144 (100.0%)  |********************\n",
      "29/10/2024 06:03:32.436     TOTAL   :   262144 (100.0%)\n",
      "29/10/2024 06:03:32.438   MediumSystem allocated 4 MB of memory\n",
      "29/10/2024 06:03:32.438   Calculating medium properties for 262144 cells...\n",
      "29/10/2024 06:03:32.638   Done calculating cell densities\n",
      "29/10/2024 06:03:32.916   FullInstrument view_00 allocated 577 MB of memory\n",
      "29/10/2024 06:03:33.183   FullInstrument view_01 allocated 577 MB of memory\n",
      "29/10/2024 06:03:33.451   FullInstrument view_02 allocated 577 MB of memory\n",
      "\u001b[32m29/10/2024 06:03:33.451 - Finished setup in 3.1 s.\n",
      "\u001b[0m29/10/2024 06:03:33.451   Starting setup output...\n",
      "\u001b[32m29/10/2024 06:03:33.451 - Finished setup output in 0.0 s.\n",
      "\u001b[0m29/10/2024 06:03:33.451   Starting the run...\n",
      "29/10/2024 06:03:33.451   Starting primary emission...\n",
      "29/10/2024 06:03:33.451   Launching 1e7 primary emission photon packets\n",
      "29/10/2024 06:03:38.453   Launched primary emission photon packets: 28.5%\n",
      "29/10/2024 06:03:43.453   Launched primary emission photon packets: 56.1%\n",
      "\u001b[32m29/10/2024 06:03:48.033 - Finished primary emission in 14.6 s.\n",
      "\u001b[0m\u001b[32m29/10/2024 06:03:48.033 - Finished the run in 14.6 s.\n",
      "\u001b[0m29/10/2024 06:03:48.033   Starting final output...\n",
      "29/10/2024 06:03:48.154   FullInstrument view_00 wrote SED to /share/xczhou/illustris/galaxyEmulator/Notebooks/run/skirt_view_00_sed.dat\n",
      "29/10/2024 06:03:48.468   FullInstrument view_00 wrote total flux to FITS file /share/xczhou/illustris/galaxyEmulator/Notebooks/run/skirt_view_00_total.fits\n",
      "29/10/2024 06:03:48.574   FullInstrument view_01 wrote SED to /share/xczhou/illustris/galaxyEmulator/Notebooks/run/skirt_view_01_sed.dat\n",
      "29/10/2024 06:03:48.880   FullInstrument view_01 wrote total flux to FITS file /share/xczhou/illustris/galaxyEmulator/Notebooks/run/skirt_view_01_total.fits\n",
      "29/10/2024 06:03:48.985   FullInstrument view_02 wrote SED to /share/xczhou/illustris/galaxyEmulator/Notebooks/run/skirt_view_02_sed.dat\n",
      "29/10/2024 06:03:49.283   FullInstrument view_02 wrote total flux to FITS file /share/xczhou/illustris/galaxyEmulator/Notebooks/run/skirt_view_02_total.fits\n",
      "\u001b[32m29/10/2024 06:03:49.283 - Finished final output in 1.2 s.\n",
      "\u001b[0m\u001b[32m29/10/2024 06:03:49.283 - Finished simulation skirt using 12 threads and a single process in 18.9 s.\n",
      "\u001b[0m29/10/2024 06:03:49.687   Available memory: 503 GB -- Peak memory usage: 1.89 GB (0.4%)\n",
      "Run Postprocessing\n",
      "Postprocessing finished! Clearing workingDir!\n"
     ]
    }
   ],
   "source": [
    "# run for two subhalos\n",
    "for id in [649674, 646870]:\n",
    "    # initialize one subhalo\n",
    "    preprocess.subhalo(id)\n",
    "    # create preparation files\n",
    "    preprocess.prepare()\n",
    "    # run SKIRT\n",
    "    preprocess.runSKIRT()\n",
    "    \n",
    "    # initialize PostProcessing class\n",
    "    postprocess = PostProcessing(preprocess.properties, conf)\n",
    "    # run postprocessing\n",
    "    postprocess.runPostprocess()"
   ]
  },
  {
   "cell_type": "code",
   "execution_count": 12,
   "id": "5f4b6d40",
   "metadata": {},
   "outputs": [],
   "source": [
    "from astropy.io import fits\n",
    "import matplotlib.pyplot as plt"
   ]
  },
  {
   "cell_type": "code",
   "execution_count": 14,
   "id": "25941df9",
   "metadata": {},
   "outputs": [],
   "source": [
    "image = fits.open('mock_CSST/Subhalo_646870/galaxy_image.fits')"
   ]
  },
  {
   "cell_type": "code",
   "execution_count": 17,
   "id": "d9eb3754",
   "metadata": {},
   "outputs": [
    {
     "data": {
      "text/plain": [
       "XTENSION= 'IMAGE   '           / Image extension                                \n",
       "BITPIX  =                  -64 / array data type                                \n",
       "NAXIS   =                    3 / number of array dimensions                     \n",
       "NAXIS1  =                  502                                                  \n",
       "NAXIS2  =                  502                                                  \n",
       "NAXIS3  =                    7                                                  \n",
       "PCOUNT  =                    0 / number of parameters                           \n",
       "GCOUNT  =                    1 / number of groups                               \n",
       "SNAPNUM = '94      '           / snapshot ID of IllustrisTNG                    \n",
       "SURVEY  = 'CSST    '           / Survey                                         \n",
       "NFILTERS=                    7 / Number of filters                              \n",
       "UNIT    = 'e       '           / Unit of image array, in electron counts        \n",
       "INCLI   =   125.62993598466676 / Inclination angle, in deg                      \n",
       "AZIMUTH =    251.3212295146202 / Azimuth angle, in deg                          \n",
       "REDSHIFT=                 0.06 / Redshift                                       \n",
       "FOV     =    50017.39501953125 / Field of view, in pc                           \n",
       "LUMIDIS =    277.5121926227481 / Luminosity distance, in Mpc                    \n",
       "FILT_00 = 'NUV     '           / filter_00 for index 0                          \n",
       "FILT_01 = 'u       '           / filter_01 for index 1                          \n",
       "FILT_02 = 'g       '           / filter_02 for index 2                          \n",
       "FILT_03 = 'r       '           / filter_03 for index 3                          \n",
       "FILT_04 = 'i       '           / filter_04 for index 4                          \n",
       "FILT_05 = 'z       '           / filter_05 for index 5                          \n",
       "FILT_06 = 'y       '           / filter_06 for index 6                          \n",
       "RES_00  =     99.5608636670777 / Pixel scale, in pc for index 0                 \n",
       "RES_01  =     99.5608636670777 / Pixel scale, in pc for index 1                 \n",
       "RES_02  =     99.5608636670777 / Pixel scale, in pc for index 2                 \n",
       "RES_03  =     99.5608636670777 / Pixel scale, in pc for index 3                 \n",
       "RES_04  =     99.5608636670777 / Pixel scale, in pc for index 4                 \n",
       "RES_05  =     99.5608636670777 / Pixel scale, in pc for index 5                 \n",
       "RES_06  =     99.5608636670777 / Pixel scale, in pc for index 6                 \n",
       "PS_00   =                0.074 / Pixel scale, in arcsec for index 0             \n",
       "PS_01   =                0.074 / Pixel scale, in arcsec for index 1             \n",
       "PS_02   =                0.074 / Pixel scale, in arcsec for index 2             \n",
       "PS_03   =                0.074 / Pixel scale, in arcsec for index 3             \n",
       "PS_04   =                0.074 / Pixel scale, in arcsec for index 4             \n",
       "PS_05   =                0.074 / Pixel scale, in arcsec for index 5             \n",
       "PS_06   =                0.074 / Pixel scale, in arcsec for index 6             "
      ]
     },
     "execution_count": 17,
     "metadata": {},
     "output_type": "execute_result"
    }
   ],
   "source": [
    "image[1].header"
   ]
  },
  {
   "cell_type": "code",
   "execution_count": 20,
   "id": "76dcdbe2",
   "metadata": {},
   "outputs": [],
   "source": [
    "sed = fits.open('mock_CSST/Subhalo_646870/galaxy_SED.fits')"
   ]
  },
  {
   "cell_type": "code",
   "execution_count": 25,
   "id": "ff9d045c",
   "metadata": {},
   "outputs": [
    {
     "data": {
      "text/plain": [
       "XTENSION= 'IMAGE   '           / Image extension                                \n",
       "BITPIX  =                  -64 / array data type                                \n",
       "NAXIS   =                    2 / number of array dimensions                     \n",
       "NAXIS1  =                    2                                                  \n",
       "NAXIS2  =                  300                                                  \n",
       "PCOUNT  =                    0 / number of parameters                           \n",
       "GCOUNT  =                    1 / number of groups                               \n",
       "WUNIT   = 'micron  '           / Units of wavelength                            \n",
       "FUNIT   = 'Jy      '           / Units of flux in F_nu                          \n",
       "INCLI   =   125.62993598466676 / Inclination angle, in deg                      \n",
       "AZIMUTH =    251.3212295146202 / Azimuth angle, in deg                          \n",
       "REDSHIFT=                 0.06 / Redshift                                       \n",
       "LUMIDIS =    277.5121926227481 / luminosity distance, in Mpc                    "
      ]
     },
     "execution_count": 25,
     "metadata": {},
     "output_type": "execute_result"
    }
   ],
   "source": [
    "sed[1].header"
   ]
  },
  {
   "cell_type": "code",
   "execution_count": 26,
   "id": "c589b0c5",
   "metadata": {},
   "outputs": [
    {
     "data": {
      "text/plain": [
       "[<matplotlib.lines.Line2D at 0x7f44951805d0>]"
      ]
     },
     "execution_count": 26,
     "metadata": {},
     "output_type": "execute_result"
    },
    {
     "data": {
      "image/png": "[encoded data removed]",
      "text/plain": [
       "<Figure size 640x480 with 1 Axes>"
      ]
     },
     "metadata": {},
     "output_type": "display_data"
    }
   ],
   "source": [
    "plt.plot(sed[1].data[:, 0], sed[1].data[:, 1])"
   ]
  },
  {
   "cell_type": "code",
   "execution_count": null,
   "id": "f0ea61b8",
   "metadata": {},
   "outputs": [],
   "source": []
  }
 ],
 "metadata": {
  "kernelspec": {
   "display_name": "skirt",
   "language": "python",
   "name": "python3"
  },
  "language_info": {
   "codemirror_mode": {
    "name": "ipython",
    "version": 3
   },
   "file_extension": ".py",
   "mimetype": "text/x-python",
   "name": "python",
   "nbconvert_exporter": "python",
   "pygments_lexer": "ipython3",
   "version": "3.11.10"
  }
 },
 "nbformat": 4,
 "nbformat_minor": 5
}
