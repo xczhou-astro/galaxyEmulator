{
 "cells": [
  {
   "cell_type": "markdown",
   "metadata": {},
   "source": [
    "# galaxyEmulator step-by-step #"
   ]
  },
  {
   "cell_type": "markdown",
   "metadata": {},
   "source": [
    "### Import the modules"
   ]
  },
  {
   "cell_type": "code",
   "execution_count": 1,
   "metadata": {},
   "outputs": [],
   "source": [
    "import sys\n",
    "import os\n",
    "import numpy as np\n",
    "from astropy.cosmology import Planck15\n",
    "import h5py"
   ]
  },
  {
   "cell_type": "code",
   "execution_count": 2,
   "metadata": {},
   "outputs": [],
   "source": [
    "sys.path.append('..')"
   ]
  },
  {
   "cell_type": "code",
   "execution_count": 3,
   "metadata": {},
   "outputs": [],
   "source": [
    "from galaxyEmulator.utils import *\n",
    "from galaxyEmulator.config import *\n",
    "from galaxyEmulator.prepare import *\n",
    "from galaxyEmulator.postprocess import *"
   ]
  },
  {
   "cell_type": "markdown",
   "metadata": {},
   "source": [
    "### Get config and check if conflictions exist"
   ]
  },
  {
   "cell_type": "code",
   "execution_count": 4,
   "metadata": {},
   "outputs": [],
   "source": [
    "# get default config\n",
    "config = get_config()"
   ]
  },
  {
   "cell_type": "code",
   "execution_count": 5,
   "metadata": {},
   "outputs": [
    {
     "name": "stdout",
     "output_type": "stream",
     "text": [
      "config:\n",
      "filePath = ../TNG-100\n",
      "simulationMode = ExtinctionOnly\n",
      "includeDust = False\n",
      "minWavelength = 0.01\n",
      "maxWavelength = 1.2\n",
      "boxLengthScale = 10\n",
      "maxBoxLength = 200\n",
      "wavelengthGrid = Linear\n",
      "numWavelengths = 500\n",
      "minLevel = 6\n",
      "maxLevel = 10\n",
      "numViews = 3\n",
      "randomViews = False\n",
      "inclinations = 0,90,180\n",
      "azimuths = 0,90,180\n",
      "resolution = 100\n",
      "numPackets = 1e7\n",
      "SEDFamily = BC03\n",
      "initialMassFunction = Chabrier\n",
      "FoVboxLengthRatio = 1\n",
      "minStellarMass = 1\n",
      "maxStellarMass = inf\n",
      "saveDatacube = False\n",
      "workingDir = run\n",
      "filters = CSST.NUV,CSST.u,CSST.g,CSST.r,CSST.i,CSST.z,CSST.y,JWST.F104W\n",
      "includePSF = True\n",
      "PSFFromFile = True\n",
      "includeBackground = False\n",
      "imgDisplay_CSST = True\n",
      "RGBImg_CSST = True\n",
      "RGBFilters_CSST = g,r,z\n",
      "displayFilter_CSST = r\n",
      "displaySEDxlogscale_CSST = True\n",
      "snapNum = 99\n",
      "fixedRedshift = 0.005\n",
      "numGeneration = All\n",
      "numThreads = 12\n",
      "\u001b[32mFound several conflictions in config.ini, please revise!!!\u001b[0m\n",
      "\u001b[31mfilePath not found\u001b[0m\n",
      "\u001b[31mpostprocessing path not found\u001b[0m\n",
      "\u001b[31mThroughput JWST.F104W not found\u001b[0m\n",
      "\u001b[31muse add_filters.py or directly add them in Data/filters\u001b[0m\n",
      "\u001b[31mPSF CSST.NUV not found\u001b[0m\n",
      "\u001b[31mPlease add PSF file in Data/PSFs\u001b[0m\n",
      "\u001b[31mPSF CSST.u not found\u001b[0m\n",
      "\u001b[31mPlease add PSF file in Data/PSFs\u001b[0m\n",
      "\u001b[31mPSF CSST.g not found\u001b[0m\n",
      "\u001b[31mPlease add PSF file in Data/PSFs\u001b[0m\n",
      "\u001b[31mPSF CSST.r not found\u001b[0m\n",
      "\u001b[31mPlease add PSF file in Data/PSFs\u001b[0m\n",
      "\u001b[31mPSF CSST.i not found\u001b[0m\n",
      "\u001b[31mPlease add PSF file in Data/PSFs\u001b[0m\n",
      "\u001b[31mPSF CSST.z not found\u001b[0m\n",
      "\u001b[31mPlease add PSF file in Data/PSFs\u001b[0m\n",
      "\u001b[31mPSF CSST.y not found\u001b[0m\n",
      "\u001b[31mPlease add PSF file in Data/PSFs\u001b[0m\n",
      "\u001b[31mPSF JWST.F104W not found\u001b[0m\n",
      "\u001b[31mPlease add PSF file in Data/PSFs\u001b[0m\n",
      "\u001b[31mimgDisplay_JWST not found\u001b[0m\n",
      "issue flag:  12\n"
     ]
    }
   ],
   "source": [
    "# check if confictions exists in config\n",
    "# flags > 0 means conflictions exist, \n",
    "# Please edit config according to the output message\n",
    "flags = check_config(config)\n",
    "print('issue flag: ', flags)"
   ]
  },
  {
   "cell_type": "markdown",
   "metadata": {},
   "source": [
    "### Modify config and save it"
   ]
  },
  {
   "cell_type": "code",
   "execution_count": 6,
   "metadata": {},
   "outputs": [],
   "source": [
    "config['filePath'] = '../../TNG-100'\n",
    "config['filters'] = 'CSST.NUV,CSST.u,CSST.g,CSST.r,CSST.i,CSST.z,CSST.y'\n",
    "config['includePSF'] = False\n",
    "config['numGeneration'] = 5\n",
    "config['saveDatacube'] = True"
   ]
  },
  {
   "cell_type": "code",
   "execution_count": 7,
   "metadata": {},
   "outputs": [
    {
     "name": "stdout",
     "output_type": "stream",
     "text": [
      "config:\n",
      "filePath = ../../TNG-100\n",
      "simulationMode = ExtinctionOnly\n",
      "includeDust = False\n",
      "minWavelength = 0.01\n",
      "maxWavelength = 1.2\n",
      "boxLengthScale = 10\n",
      "maxBoxLength = 200\n",
      "wavelengthGrid = Linear\n",
      "numWavelengths = 500\n",
      "minLevel = 6\n",
      "maxLevel = 10\n",
      "numViews = 3\n",
      "randomViews = False\n",
      "inclinations = 0,90,180\n",
      "azimuths = 0,90,180\n",
      "resolution = 100\n",
      "numPackets = 1e7\n",
      "SEDFamily = BC03\n",
      "initialMassFunction = Chabrier\n",
      "FoVboxLengthRatio = 1\n",
      "minStellarMass = 1\n",
      "maxStellarMass = inf\n",
      "saveDatacube = True\n",
      "workingDir = run\n",
      "filters = CSST.NUV,CSST.u,CSST.g,CSST.r,CSST.i,CSST.z,CSST.y\n",
      "includePSF = False\n",
      "PSFFromFile = True\n",
      "includeBackground = False\n",
      "imgDisplay_CSST = True\n",
      "RGBImg_CSST = True\n",
      "RGBFilters_CSST = g,r,z\n",
      "displayFilter_CSST = r\n",
      "displaySEDxlogscale_CSST = True\n",
      "snapNum = 99\n",
      "fixedRedshift = 0.005\n",
      "numGeneration = 5\n",
      "numThreads = 12\n"
     ]
    }
   ],
   "source": [
    "flags = check_config(config)"
   ]
  },
  {
   "cell_type": "code",
   "execution_count": 8,
   "metadata": {},
   "outputs": [
    {
     "data": {
      "text/plain": [
       "0"
      ]
     },
     "execution_count": 8,
     "metadata": {},
     "output_type": "execute_result"
    }
   ],
   "source": [
    "# Now the flag == 0, we can proceed\n",
    "flags"
   ]
  },
  {
   "cell_type": "code",
   "execution_count": 16,
   "metadata": {},
   "outputs": [],
   "source": [
    "# saving is optional, as we can use the config in memory\n",
    "# config = save_config(config)"
   ]
  },
  {
   "cell_type": "markdown",
   "metadata": {},
   "source": [
    "### Load the subhalos and generate the .ski file"
   ]
  },
  {
   "cell_type": "code",
   "execution_count": 17,
   "metadata": {},
   "outputs": [],
   "source": [
    "# get the snapshot num we want to use\n",
    "snapnum = np.int32(config['snapNum'])"
   ]
  },
  {
   "cell_type": "code",
   "execution_count": 23,
   "metadata": {},
   "outputs": [],
   "source": [
    "# get the redshift of current snapshot\n",
    "snap = h5py.File(os.path.join(config['filePath'], \n",
    "                     f'snapdir_{snapnum:03d}/snap_{snapnum:03d}.0.hdf5'), 'r')\n",
    "snapz = dict(snap['Header'].attrs.items())['Redshift']"
   ]
  },
  {
   "cell_type": "code",
   "execution_count": 25,
   "metadata": {},
   "outputs": [],
   "source": [
    "# get the subhalos\n",
    "subhalos = get_subhalos(config['filePath'], snapnum)"
   ]
  },
  {
   "cell_type": "code",
   "execution_count": 26,
   "metadata": {},
   "outputs": [],
   "source": [
    "# get the min and max stellar mass for subhalos\n",
    "minStellarMass = np.float32(config['minStellarMass'])\n",
    "if config['maxStellarMass'] == 'inf':\n",
    "    maxStellarMass = np.inf\n",
    "else:\n",
    "    maxStellarMass = np.float32(config['maxStellarMass'])"
   ]
  },
  {
   "cell_type": "code",
   "execution_count": 28,
   "metadata": {},
   "outputs": [
    {
     "name": "stdout",
     "output_type": "stream",
     "text": [
      "Number of subhalos is 6145 in snapshot 99 in stellar mass range 1.0 to inf [10^10 M_sun]\n"
     ]
    }
   ],
   "source": [
    "# get the SubhaloIDs following the stellar mass condition \n",
    "stellarMass = subhalos['SubhaloMassType'][:, 4] / Planck15.h\n",
    "    \n",
    "subhalo_indices = np.where((stellarMass > minStellarMass) \\\n",
    "                        & (stellarMass < maxStellarMass) \\\n",
    "                        & (subhalos['SubhaloFlag'] == 1) \\\n",
    "                        & (subhalos['SubhaloParent'] == 0))[0]\n",
    "\n",
    "subhaloNums = subhalo_indices.shape[0]\n",
    "print(f'Number of subhalos is {subhaloNums} in snapshot {snapnum} in stellar mass range {minStellarMass} to {maxStellarMass} [10^10 M_sun]')"
   ]
  },
  {
   "cell_type": "code",
   "execution_count": 9,
   "metadata": {},
   "outputs": [],
   "source": [
    "# Let us generate the galaxy from subhalo with ID = 1\n",
    "subhaloID = 1"
   ]
  },
  {
   "cell_type": "code",
   "execution_count": 36,
   "metadata": {},
   "outputs": [
    {
     "name": "stdout",
     "output_type": "stream",
     "text": [
      "Stellar Mass: 55.87917110509566 [10^10 M_sun]\n"
     ]
    }
   ],
   "source": [
    "print(f'Stellar Mass: {stellarMass[subhaloID]} [10^10 M_sun]')"
   ]
  },
  {
   "cell_type": "code",
   "execution_count": 41,
   "metadata": {},
   "outputs": [
    {
     "name": "stdout",
     "output_type": "stream",
     "text": [
      "boxLength in kpc:  200.0\n"
     ]
    }
   ],
   "source": [
    "boxLength = subhalos['SubhaloHalfmassRadType'][:, 4][subhaloID] \\\n",
    "        * np.float32(config['boxLengthScale']) / Planck15.h\n",
    "\n",
    "boxLength = np.min([boxLength, np.float32(config['maxBoxLength'])])\n",
    "print('boxLength in kpc: ', np.around(boxLength, 2))"
   ]
  },
  {
   "cell_type": "code",
   "execution_count": 42,
   "metadata": {},
   "outputs": [],
   "source": [
    "# create the working directory for SKIRT\n",
    "workingDir = config['workingDir']\n",
    "os.makedirs(workingDir, exist_ok=True)"
   ]
  },
  {
   "cell_type": "code",
   "execution_count": 43,
   "metadata": {},
   "outputs": [
    {
     "name": "stdout",
     "output_type": "stream",
     "text": [
      "Star-forming star particles: 1\n",
      "Quenched star particles: 511871\n"
     ]
    }
   ],
   "source": [
    "# get and save the star-forming, quenched or dust particles\n",
    "particles_from_tng(subhaloID, snapnum, snapz, subhalos, boxLength, config)"
   ]
  },
  {
   "cell_type": "code",
   "execution_count": 44,
   "metadata": {},
   "outputs": [],
   "source": [
    "# create .ski file for SKIRT\n",
    "fixedRedshift = np.float32(config['fixedRedshift'])\n",
    "property = modify_ski_file(fixedRedshift, boxLength, config)"
   ]
  },
  {
   "cell_type": "markdown",
   "metadata": {},
   "source": [
    "### run SKIRT"
   ]
  },
  {
   "cell_type": "code",
   "execution_count": 45,
   "metadata": {
    "scrolled": true
   },
   "outputs": [
    {
     "name": "stdout",
     "output_type": "stream",
     "text": [
      "27/08/2024 08:35:37.983   Welcome to SKIRT v9.0 (git 382ad4b built on 15/08/2024 at 01:46:45)\n",
      "27/08/2024 08:35:37.983   Running on 2488h for xczhou\n",
      "27/08/2024 08:35:37.983   Constructing a simulation from ski file 'skirt.ski'...\n",
      "27/08/2024 08:35:38.042   Starting simulation skirt using 12 threads and a single process...\n",
      "27/08/2024 08:35:38.042   Starting setup...\n",
      "27/08/2024 08:35:38.043     Panchromatic wavelength regime\n",
      "27/08/2024 08:35:38.043     With transfer medium\n",
      "27/08/2024 08:35:38.043     Redshift: 0.005\n",
      "27/08/2024 08:35:38.043     Luminosity distance: 22.2131 Mpc\n",
      "27/08/2024 08:35:38.043     Model and grid symmetry: 3D\n",
      "27/08/2024 08:35:38.043     Photon life cycle: no explicit absorption; with forced scattering\n",
      "27/08/2024 08:35:38.043   BruzualCharlotSEDFamily opened stored table /share/xczhou/SKIRT/resources/SKIRT9_Resources_Core/SED/BruzualCharlotSEDFamily_Chabrier_hr.stab\n",
      "27/08/2024 08:35:38.044   ParticleSource reads smoothed source particles from text file /share/xczhou/illustris/galaxyEmulator/Notebook/run/quenched_stars.txt...\n",
      "27/08/2024 08:35:38.045     Column 1: position x (kpc) <-- x-coordinate\n",
      "27/08/2024 08:35:38.045     Column 2: position y (kpc) <-- y-coordinate\n",
      "27/08/2024 08:35:38.045     Column 3: position z (kpc) <-- z-coordinate\n",
      "27/08/2024 08:35:38.045     Column 4: size h (kpc) <-- smoothing length\n",
      "27/08/2024 08:35:38.045     Column 5: initial mass (Msun) <-- initial mass\n",
      "27/08/2024 08:35:38.045     Column 6: metallicity (1) <-- metallicity\n",
      "27/08/2024 08:35:38.045     Column 7: age (Myr) <-- age\n",
      "27/08/2024 08:35:39.671   Done reading\n",
      "27/08/2024 08:35:39.671     Number of particles: 511871\n",
      "27/08/2024 08:35:39.673   Calculating luminosities for 511871 imported entities...\n",
      "27/08/2024 08:35:45.106   Calculated luminosities: 1.0%\n",
      "27/08/2024 08:35:50.578   Calculated luminosities: 13.5%\n",
      "27/08/2024 08:35:56.065   Calculated luminosities: 26.0%\n",
      "27/08/2024 08:36:01.553   Calculated luminosities: 38.5%\n",
      "27/08/2024 08:36:07.047   Calculated luminosities: 51.0%\n",
      "27/08/2024 08:36:12.540   Calculated luminosities: 63.5%\n",
      "27/08/2024 08:36:18.036   Calculated luminosities: 76.0%\n",
      "27/08/2024 08:36:23.535   Calculated luminosities: 88.5%\n",
      "27/08/2024 08:36:24.131   MappingsSEDFamily opened stored table /share/xczhou/SKIRT/resources/SKIRT9_Resources_Core/SED/MappingsSEDFamily.stab\n",
      "27/08/2024 08:36:24.131   ParticleSource reads smoothed source particles from text file /share/xczhou/illustris/galaxyEmulator/Notebook/run/starforming_stars.txt...\n",
      "27/08/2024 08:36:24.131     Column 1: position x (kpc) <-- x-coordinate\n",
      "27/08/2024 08:36:24.131     Column 2: position y (kpc) <-- y-coordinate\n",
      "27/08/2024 08:36:24.131     Column 3: position z (kpc) <-- z-coordinate\n",
      "27/08/2024 08:36:24.131     Column 4: size h (kpc) <-- smoothing length\n",
      "27/08/2024 08:36:24.131     Column 5: star formation rate (Msun/yr) <-- star formation rate\n",
      "27/08/2024 08:36:24.131     Column 6: metallicity (1) <-- metallicity\n",
      "27/08/2024 08:36:24.131     Column 7: compactness (1) <-- compactness\n",
      "27/08/2024 08:36:24.131     Column 8: pressure (J/m3) <-- pressure\n",
      "27/08/2024 08:36:24.131     Column 9: covering factor (1) <-- coveringFactor\n",
      "27/08/2024 08:36:24.131   Done reading\n",
      "27/08/2024 08:36:24.131     Number of particles: 1\n",
      "27/08/2024 08:36:24.131   Calculating luminosities for 1 imported entities...\n",
      "27/08/2024 08:36:24.135   ZubkoDustMix opened stored table /share/xczhou/SKIRT/resources/SKIRT9_Resources_Core/OpticalProps/DraineSilicateOpticalProps.stab\n",
      "27/08/2024 08:36:24.374   ZubkoDustMix opened stored table /share/xczhou/SKIRT/resources/SKIRT9_Resources_Core/OpticalProps/DraineGraphiteOpticalProps.stab\n",
      "27/08/2024 08:36:24.592   ZubkoDustMix opened stored table /share/xczhou/SKIRT/resources/SKIRT9_Resources_Core/OpticalProps/DraineNeutralPAHOpticalProps.stab\n",
      "27/08/2024 08:36:24.680   ZubkoDustMix opened stored table /share/xczhou/SKIRT/resources/SKIRT9_Resources_Core/OpticalProps/DraineIonizedPAHOpticalProps.stab\n",
      "27/08/2024 08:36:24.768   ZubkoDustMix allocated 82.8 KB of memory\n",
      "27/08/2024 08:36:24.768   ParticleMedium reads smoothed particles from text file /share/xczhou/illustris/galaxyEmulator/Notebook/run/dusts.txt...\n",
      "27/08/2024 08:36:24.768     Column 1: position x (kpc) <-- x-coordinate\n",
      "27/08/2024 08:36:24.768     Column 2: position y (kpc) <-- y-coordinate\n",
      "27/08/2024 08:36:24.768     Column 3: position z (kpc) <-- z-coordinate\n",
      "27/08/2024 08:36:24.768     Column 4: size h (kpc) <-- smoothing length\n",
      "27/08/2024 08:36:24.768     Column 5: mass (Msun) <-- gas mass\n",
      "27/08/2024 08:36:24.768     Column 6: metallicity (1) <-- metallicity\n",
      "27/08/2024 08:36:24.768   Done reading\n",
      "27/08/2024 08:36:24.768     Number of particles: 0\n",
      "27/08/2024 08:36:24.768     Total original mass : 0.0000e+00 Msun\n",
      "27/08/2024 08:36:24.768     Total metallic mass : 0.0000e+00 Msun\n",
      "27/08/2024 08:36:24.768     Total effective mass: 0.0000e+00 Msun\n",
      "27/08/2024 08:36:24.768   Constructing intermediate 20x20x20 grid for particles...\n",
      "27/08/2024 08:36:24.768     Smallest number of particles per cell: 0\n",
      "27/08/2024 08:36:24.768     Largest  number of particles per cell: 0\n",
      "27/08/2024 08:36:24.768     Average  number of particles per cell: 0.0\n",
      "27/08/2024 08:36:24.768   Constructing the spatial tree grid...\n",
      "27/08/2024 08:36:24.768   Subdividing level 0: 1 nodes\n",
      "27/08/2024 08:36:24.769   Subdividing level 1: 8 nodes\n",
      "27/08/2024 08:36:24.769   Subdividing level 2: 64 nodes\n",
      "27/08/2024 08:36:24.769   Subdividing level 3: 512 nodes\n",
      "27/08/2024 08:36:24.772   Subdividing level 4: 4096 nodes\n",
      "27/08/2024 08:36:24.801   Subdividing level 5: 32768 nodes\n",
      "27/08/2024 08:36:25.040   Subdividing level 6: 262144 nodes\n",
      "27/08/2024 08:36:25.406   Finished construction of the spatial tree grid\n",
      "27/08/2024 08:36:25.406   Number of cells at each level in the tree hierarchy:\n",
      "27/08/2024 08:36:25.406     Level  0:        0 (  0.0%)  |\n",
      "27/08/2024 08:36:25.406     Level  1:        0 (  0.0%)  |\n",
      "27/08/2024 08:36:25.406     Level  2:        0 (  0.0%)  |\n",
      "27/08/2024 08:36:25.406     Level  3:        0 (  0.0%)  |\n",
      "27/08/2024 08:36:25.406     Level  4:        0 (  0.0%)  |\n",
      "27/08/2024 08:36:25.406     Level  5:        0 (  0.0%)  |\n",
      "27/08/2024 08:36:25.406     Level  6:   262144 (100.0%)  |********************\n",
      "27/08/2024 08:36:25.406     TOTAL   :   262144 (100.0%)\n",
      "27/08/2024 08:36:25.408   MediumSystem allocated 4 MB of memory\n",
      "27/08/2024 08:36:25.408   Calculating medium properties for 262144 cells...\n",
      "27/08/2024 08:36:25.610   Done calculating cell densities\n",
      "27/08/2024 08:36:54.410   FullInstrument view_00 allocated 44.7 GB of memory\n",
      "27/08/2024 08:37:18.867   FullInstrument view_01 allocated 44.7 GB of memory\n",
      "27/08/2024 08:37:43.992   FullInstrument view_02 allocated 44.7 GB of memory\n",
      "\u001b[32m27/08/2024 08:37:43.993 - Finished setup in 126 s (2m 6s).\n",
      "\u001b[0m27/08/2024 08:37:43.993   Starting setup output...\n",
      "\u001b[32m27/08/2024 08:37:43.993 - Finished setup output in 0.0 s.\n",
      "\u001b[0m27/08/2024 08:37:43.993   Starting the run...\n",
      "27/08/2024 08:37:43.993   Starting primary emission...\n",
      "27/08/2024 08:37:43.994   Launching 1e7 primary emission photon packets\n",
      "27/08/2024 08:37:48.995   Launched primary emission photon packets: 5.9%\n",
      "27/08/2024 08:37:53.998   Launched primary emission photon packets: 11.9%\n",
      "27/08/2024 08:37:59.005   Launched primary emission photon packets: 18.2%\n",
      "27/08/2024 08:38:04.008   Launched primary emission photon packets: 24.7%\n",
      "27/08/2024 08:38:09.015   Launched primary emission photon packets: 31.5%\n",
      "27/08/2024 08:38:14.027   Launched primary emission photon packets: 38.2%\n",
      "27/08/2024 08:38:19.029   Launched primary emission photon packets: 44.8%\n",
      "27/08/2024 08:38:24.035   Launched primary emission photon packets: 51.3%\n",
      "27/08/2024 08:38:29.054   Launched primary emission photon packets: 57.7%\n",
      "27/08/2024 08:38:34.058   Launched primary emission photon packets: 64.1%\n",
      "27/08/2024 08:38:39.069   Launched primary emission photon packets: 70.5%\n",
      "27/08/2024 08:38:44.069   Launched primary emission photon packets: 87.7%\n",
      "\u001b[32m27/08/2024 08:38:46.680 - Finished primary emission in 63 s (1m 3s).\n",
      "\u001b[0m\u001b[32m27/08/2024 08:38:46.680 - Finished the run in 63 s (1m 3s).\n",
      "\u001b[0m27/08/2024 08:38:46.680   Starting final output...\n",
      "27/08/2024 08:39:00.080   FullInstrument view_00 wrote SED to /share/xczhou/illustris/galaxyEmulator/Notebook/run/skirt_view_00_sed.dat\n",
      "27/08/2024 08:39:29.889   FullInstrument view_00 wrote total flux to FITS file /share/xczhou/illustris/galaxyEmulator/Notebook/run/skirt_view_00_total.fits\n",
      "27/08/2024 08:39:42.618   FullInstrument view_00 wrote transparent flux to FITS file /share/xczhou/illustris/galaxyEmulator/Notebook/run/skirt_view_00_transparent.fits\n",
      "27/08/2024 08:39:51.648   FullInstrument view_00 wrote primarydirect flux to FITS file /share/xczhou/illustris/galaxyEmulator/Notebook/run/skirt_view_00_primarydirect.fits\n",
      "27/08/2024 08:40:00.729   FullInstrument view_00 wrote primaryscattered flux to FITS file /share/xczhou/illustris/galaxyEmulator/Notebook/run/skirt_view_00_primaryscattered.fits\n",
      "27/08/2024 08:40:17.458   FullInstrument view_01 wrote SED to /share/xczhou/illustris/galaxyEmulator/Notebook/run/skirt_view_01_sed.dat\n",
      "27/08/2024 08:40:42.390   FullInstrument view_01 wrote total flux to FITS file /share/xczhou/illustris/galaxyEmulator/Notebook/run/skirt_view_01_total.fits\n",
      "27/08/2024 08:40:53.997   FullInstrument view_01 wrote transparent flux to FITS file /share/xczhou/illustris/galaxyEmulator/Notebook/run/skirt_view_01_transparent.fits\n",
      "27/08/2024 08:41:03.116   FullInstrument view_01 wrote primarydirect flux to FITS file /share/xczhou/illustris/galaxyEmulator/Notebook/run/skirt_view_01_primarydirect.fits\n",
      "27/08/2024 08:41:12.400   FullInstrument view_01 wrote primaryscattered flux to FITS file /share/xczhou/illustris/galaxyEmulator/Notebook/run/skirt_view_01_primaryscattered.fits\n",
      "27/08/2024 08:41:33.161   FullInstrument view_02 wrote SED to /share/xczhou/illustris/galaxyEmulator/Notebook/run/skirt_view_02_sed.dat\n",
      "27/08/2024 08:41:59.203   FullInstrument view_02 wrote total flux to FITS file /share/xczhou/illustris/galaxyEmulator/Notebook/run/skirt_view_02_total.fits\n",
      "27/08/2024 08:42:08.723   FullInstrument view_02 wrote transparent flux to FITS file /share/xczhou/illustris/galaxyEmulator/Notebook/run/skirt_view_02_transparent.fits\n",
      "27/08/2024 08:42:19.072   FullInstrument view_02 wrote primarydirect flux to FITS file /share/xczhou/illustris/galaxyEmulator/Notebook/run/skirt_view_02_primarydirect.fits\n",
      "27/08/2024 08:42:32.666   FullInstrument view_02 wrote primaryscattered flux to FITS file /share/xczhou/illustris/galaxyEmulator/Notebook/run/skirt_view_02_primaryscattered.fits\n",
      "\u001b[32m27/08/2024 08:42:33.490 - Finished final output in 227 s (3m 47s).\n",
      "\u001b[0m\u001b[32m27/08/2024 08:42:33.490 - Finished simulation skirt using 12 threads and a single process in 415 s (6m 55s).\n",
      "\u001b[0m27/08/2024 08:42:40.202   Available memory: 503 GB -- Peak memory usage: 149 GB (29.7%)\n"
     ]
    }
   ],
   "source": [
    "# run SKIRT, this will take some time and memory\n",
    "run_skirt(config)"
   ]
  },
  {
   "cell_type": "code",
   "execution_count": 10,
   "metadata": {},
   "outputs": [],
   "source": [
    "property = {'redshift': np.float32(0.005),\n",
    " 'lumiDis': np.float64(22.213014431289825),\n",
    " 'inclinations': [0.0, 90.0, 180.0],\n",
    " 'azimuths': [0.0, 90.0, 180.0],\n",
    " 'FoV': np.float64(200000.0)}"
   ]
  },
  {
   "cell_type": "markdown",
   "metadata": {},
   "source": [
    "### postprocessing for calculating bandpass images, save them and clean the workingDir"
   ]
  },
  {
   "cell_type": "code",
   "execution_count": 11,
   "metadata": {},
   "outputs": [
    {
     "ename": "KeyError",
     "evalue": "'saveDataCube'",
     "output_type": "error",
     "traceback": [
      "\u001b[0;31m---------------------------------------------------------------------------\u001b[0m",
      "\u001b[0;31mKeyError\u001b[0m                                  Traceback (most recent call last)",
      "Cell \u001b[0;32mIn[11], line 1\u001b[0m\n\u001b[0;32m----> 1\u001b[0m \u001b[43mpostprocess\u001b[49m\u001b[43m(\u001b[49m\u001b[43msubhaloID\u001b[49m\u001b[43m,\u001b[49m\u001b[43m \u001b[49m\u001b[38;5;28;43mproperty\u001b[39;49m\u001b[43m,\u001b[49m\u001b[43m \u001b[49m\u001b[43mconfig\u001b[49m\u001b[43m)\u001b[49m\n",
      "File \u001b[0;32m/share/xczhou/illustris/galaxyEmulator/Notebook/../galaxyEmulator/postprocess.py:235\u001b[0m, in \u001b[0;36mpostprocess\u001b[0;34m(subhaloID, property, config)\u001b[0m\n\u001b[1;32m    230\u001b[0m         savedFilename \u001b[38;5;241m=\u001b[39m \u001b[38;5;124mf\u001b[39m\u001b[38;5;124m'\u001b[39m\u001b[38;5;124mmock_\u001b[39m\u001b[38;5;132;01m{\u001b[39;00msurvey\u001b[38;5;132;01m}\u001b[39;00m\u001b[38;5;124m/Subhalo_\u001b[39m\u001b[38;5;132;01m{\u001b[39;00msubhaloID\u001b[38;5;132;01m}\u001b[39;00m\u001b[38;5;124m/galaxy_SED.png\u001b[39m\u001b[38;5;124m'\u001b[39m\n\u001b[1;32m    232\u001b[0m         plot_sed(sed, config[\u001b[38;5;124mf\u001b[39m\u001b[38;5;124m'\u001b[39m\u001b[38;5;124mdisplaySEDxlogscale_\u001b[39m\u001b[38;5;132;01m{\u001b[39;00msurvey\u001b[38;5;132;01m}\u001b[39;00m\u001b[38;5;124m'\u001b[39m], savedFilename)\n\u001b[0;32m--> 235\u001b[0m \u001b[38;5;28;01mif\u001b[39;00m \u001b[43mconfig\u001b[49m\u001b[43m[\u001b[49m\u001b[38;5;124;43m'\u001b[39;49m\u001b[38;5;124;43msaveDataCube\u001b[39;49m\u001b[38;5;124;43m'\u001b[39;49m\u001b[43m]\u001b[49m \u001b[38;5;241m==\u001b[39m \u001b[38;5;28;01mTrue\u001b[39;00m:\n\u001b[1;32m    237\u001b[0m     datacubeDir \u001b[38;5;241m=\u001b[39m \u001b[38;5;124mf\u001b[39m\u001b[38;5;124m'\u001b[39m\u001b[38;5;124mdataCubes/Subhalo_\u001b[39m\u001b[38;5;132;01m{\u001b[39;00msubhaloID\u001b[38;5;132;01m}\u001b[39;00m\u001b[38;5;124m/\u001b[39m\u001b[38;5;124m'\u001b[39m\n\u001b[1;32m    238\u001b[0m     os\u001b[38;5;241m.\u001b[39mmakedirs(datacubeDir, exist_ok\u001b[38;5;241m=\u001b[39m\u001b[38;5;28;01mTrue\u001b[39;00m)\n",
      "\u001b[0;31mKeyError\u001b[0m: 'saveDataCube'"
     ]
    }
   ],
   "source": [
    "postprocess(subhaloID, property, config)"
   ]
  },
  {
   "cell_type": "code",
   "execution_count": null,
   "metadata": {},
   "outputs": [],
   "source": []
  }
 ],
 "metadata": {
  "kernelspec": {
   "display_name": "skirt",
   "language": "python",
   "name": "skirt"
  },
  "language_info": {
   "codemirror_mode": {
    "name": "ipython",
    "version": 3
   },
   "file_extension": ".py",
   "mimetype": "text/x-python",
   "name": "python",
   "nbconvert_exporter": "python",
   "pygments_lexer": "ipython3",
   "version": "3.11.9"
  }
 },
 "nbformat": 4,
 "nbformat_minor": 4
}
