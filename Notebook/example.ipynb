{
 "cells": [
  {
   "cell_type": "markdown",
   "metadata": {},
   "source": [
    "# galaxyEmulator step-by-step #"
   ]
  },
  {
   "cell_type": "markdown",
   "metadata": {},
   "source": [
    "### Import the modules"
   ]
  },
  {
   "cell_type": "code",
   "execution_count": 1,
   "metadata": {},
   "outputs": [],
   "source": [
    "import sys\n",
    "import os\n",
    "import numpy as np\n",
    "from astropy.cosmology import Planck15\n",
    "import h5py"
   ]
  },
  {
   "cell_type": "code",
   "execution_count": 2,
   "metadata": {},
   "outputs": [],
   "source": [
    "sys.path.append('..')"
   ]
  },
  {
   "cell_type": "code",
   "execution_count": 3,
   "metadata": {},
   "outputs": [],
   "source": [
    "from galaxyEmulator.utils import *\n",
    "from galaxyEmulator.config import *\n",
    "from galaxyEmulator.prepare import *\n",
    "from galaxyEmulator.postprocess import *"
   ]
  },
  {
   "cell_type": "markdown",
   "metadata": {},
   "source": [
    "### Get config and check if conflictions exist"
   ]
  },
  {
   "cell_type": "code",
   "execution_count": 4,
   "metadata": {},
   "outputs": [],
   "source": [
    "# get default config\n",
    "config = get_config()"
   ]
  },
  {
   "cell_type": "code",
   "execution_count": 5,
   "metadata": {
    "scrolled": true
   },
   "outputs": [
    {
     "data": {
      "text/plain": [
       "{'filePath': '../../TNG-100',\n",
       " 'workingDir': 'run',\n",
       " 'simulationMode': 'ExtinctionOnly',\n",
       " 'includeDust': False,\n",
       " 'dustEmissionType': 'Equilibrium',\n",
       " 'dustModel': 'ZubkoDustMix',\n",
       " 'minWavelength': '0.1',\n",
       " 'maxWavelength': '1.2',\n",
       " 'boxLengthScale': '20',\n",
       " 'maxBoxLength': '300',\n",
       " 'wavelengthGrid': 'Linear',\n",
       " 'numWavelengths': '300',\n",
       " 'minLevel': '6',\n",
       " 'maxLevel': '10',\n",
       " 'numPackets': '1e7',\n",
       " 'SEDFamily': 'BC03',\n",
       " 'initialMassFunction': 'Chabrier',\n",
       " 'minStellarMass': '1',\n",
       " 'maxStellarMass': 'inf',\n",
       " 'numViews': '3',\n",
       " 'randomViews': False,\n",
       " 'inclinations': '0,90,180',\n",
       " 'azimuths': '0,90,180',\n",
       " 'FoVboxLengthRatio': '1',\n",
       " 'filters': 'CSST.NUV,CSST.u,CSST.g,CSST.r,CSST.i,CSST.z,CSST.y',\n",
       " 'pixelScales': '0.074,0.074,0.074,0.074,0.074,0.074,0.074',\n",
       " 'postProcessing': True,\n",
       " 'numExposure': '4,2,2,2,2,2,4',\n",
       " 'exposureTime_CSST': '150',\n",
       " 'mirrorSize_CSST': '1',\n",
       " 'resolFromPix': True,\n",
       " 'resolution': '100',\n",
       " 'includePSF': True,\n",
       " 'PSFFromFile': True,\n",
       " 'includeBackground': True,\n",
       " 'backgroundSigma': '10.65,7.84,9.93,10.59,10.59,9.56,11.53',\n",
       " 'saveDatacube': True,\n",
       " 'imgDisplay_CSST': True,\n",
       " 'RGBImg_CSST': True,\n",
       " 'RGBFilters_CSST': 'g,r,z',\n",
       " 'displayFilter_CSST': 'r',\n",
       " 'displaySEDxlogscale_CSST': False,\n",
       " 'snapNum': '94',\n",
       " 'fixedRedshift': '0.06',\n",
       " 'numGeneration': '5',\n",
       " 'subhaloIDs': '31376,430590,509903,510778,532548',\n",
       " 'numThreads': '12',\n",
       " 'recordComponents': False,\n",
       " 'ageThreshold': '10',\n",
       " 'ratioSFR': '10**7',\n",
       " 'logCompactness': '5',\n",
       " 'logPressure': '5',\n",
       " 'coveringFactor': '0.2',\n",
       " 'temperatureThreshold': '10000',\n",
       " 'numSilicateSizes': '15',\n",
       " 'numGraphiteSizes': '15',\n",
       " 'numPAHSizes': '15',\n",
       " 'numHydrocarbonSizes': '15'}"
      ]
     },
     "execution_count": 5,
     "metadata": {},
     "output_type": "execute_result"
    }
   ],
   "source": [
    "config"
   ]
  },
  {
   "cell_type": "code",
   "execution_count": 6,
   "metadata": {},
   "outputs": [
    {
     "name": "stdout",
     "output_type": "stream",
     "text": [
      "\u001b[32mConfiguration conflicts are indicated in RED\u001b[0m\n",
      "issue flag:  0\n"
     ]
    }
   ],
   "source": [
    "# check if confictions exists in config\n",
    "# flags > 0 means conflictions exist, \n",
    "# Please edit config according to the output message\n",
    "flags = check_config(config)\n",
    "print('issue flag: ', flags)"
   ]
  },
  {
   "cell_type": "markdown",
   "metadata": {},
   "source": [
    "### Modify config and save it"
   ]
  },
  {
   "cell_type": "code",
   "execution_count": 7,
   "metadata": {},
   "outputs": [],
   "source": [
    "config['filePath'] = '../../TNG-100'\n",
    "config['filters'] = 'CSST.NUV,CSST.u,CSST.g,CSST.r,CSST.i,CSST.z,CSST.y'\n",
    "config['includePSF'] = False\n",
    "config['includeBackground'] = False\n",
    "config['numGeneration'] = 5\n",
    "config['saveDatacube'] = True\n",
    "config['includeDust'] = True\n",
    "config['resolFromPix'] = True\n",
    "config['RGBFilters_CSST'] = 'g,r,z'"
   ]
  },
  {
   "cell_type": "code",
   "execution_count": 8,
   "metadata": {
    "scrolled": true
   },
   "outputs": [
    {
     "data": {
      "text/plain": [
       "{'filePath': '../../TNG-100',\n",
       " 'workingDir': 'run',\n",
       " 'simulationMode': 'ExtinctionOnly',\n",
       " 'includeDust': True,\n",
       " 'dustEmissionType': 'Equilibrium',\n",
       " 'dustModel': 'ZubkoDustMix',\n",
       " 'minWavelength': '0.1',\n",
       " 'maxWavelength': '1.2',\n",
       " 'boxLengthScale': '20',\n",
       " 'maxBoxLength': '300',\n",
       " 'wavelengthGrid': 'Linear',\n",
       " 'numWavelengths': '300',\n",
       " 'minLevel': '6',\n",
       " 'maxLevel': '10',\n",
       " 'numPackets': '1e7',\n",
       " 'SEDFamily': 'BC03',\n",
       " 'initialMassFunction': 'Chabrier',\n",
       " 'minStellarMass': '1',\n",
       " 'maxStellarMass': 'inf',\n",
       " 'numViews': '3',\n",
       " 'randomViews': False,\n",
       " 'inclinations': '0,90,180',\n",
       " 'azimuths': '0,90,180',\n",
       " 'FoVboxLengthRatio': '1',\n",
       " 'filters': 'CSST.NUV,CSST.u,CSST.g,CSST.r,CSST.i,CSST.z,CSST.y',\n",
       " 'pixelScales': '0.074,0.074,0.074,0.074,0.074,0.074,0.074',\n",
       " 'postProcessing': True,\n",
       " 'numExposure': '4,2,2,2,2,2,4',\n",
       " 'exposureTime_CSST': '150',\n",
       " 'mirrorSize_CSST': '1',\n",
       " 'resolFromPix': True,\n",
       " 'resolution': '100',\n",
       " 'includePSF': False,\n",
       " 'PSFFromFile': True,\n",
       " 'includeBackground': False,\n",
       " 'backgroundSigma': '10.65,7.84,9.93,10.59,10.59,9.56,11.53',\n",
       " 'saveDatacube': True,\n",
       " 'imgDisplay_CSST': True,\n",
       " 'RGBImg_CSST': True,\n",
       " 'RGBFilters_CSST': 'g,r,z',\n",
       " 'displayFilter_CSST': 'r',\n",
       " 'displaySEDxlogscale_CSST': False,\n",
       " 'snapNum': '94',\n",
       " 'fixedRedshift': '0.06',\n",
       " 'numGeneration': 5,\n",
       " 'subhaloIDs': '31376,430590,509903,510778,532548',\n",
       " 'numThreads': '12',\n",
       " 'recordComponents': False,\n",
       " 'ageThreshold': '10',\n",
       " 'ratioSFR': '10**7',\n",
       " 'logCompactness': '5',\n",
       " 'logPressure': '5',\n",
       " 'coveringFactor': '0.2',\n",
       " 'temperatureThreshold': '10000',\n",
       " 'numSilicateSizes': '15',\n",
       " 'numGraphiteSizes': '15',\n",
       " 'numPAHSizes': '15',\n",
       " 'numHydrocarbonSizes': '15'}"
      ]
     },
     "execution_count": 8,
     "metadata": {},
     "output_type": "execute_result"
    }
   ],
   "source": [
    "config"
   ]
  },
  {
   "cell_type": "code",
   "execution_count": 9,
   "metadata": {},
   "outputs": [
    {
     "name": "stdout",
     "output_type": "stream",
     "text": [
      "\u001b[32mConfiguration conflicts are indicated in RED\u001b[0m\n"
     ]
    }
   ],
   "source": [
    "flags = check_config(config)"
   ]
  },
  {
   "cell_type": "code",
   "execution_count": 10,
   "metadata": {},
   "outputs": [
    {
     "data": {
      "text/plain": [
       "0"
      ]
     },
     "execution_count": 10,
     "metadata": {},
     "output_type": "execute_result"
    }
   ],
   "source": [
    "# Now the flag == 0, we can proceed\n",
    "flags"
   ]
  },
  {
   "cell_type": "code",
   "execution_count": 11,
   "metadata": {},
   "outputs": [],
   "source": [
    "# saving is optional, as we can use the config in memory\n",
    "# config = save_config(config)"
   ]
  },
  {
   "cell_type": "markdown",
   "metadata": {},
   "source": [
    "### Load the subhalos and generate the .ski file"
   ]
  },
  {
   "cell_type": "code",
   "execution_count": 12,
   "metadata": {},
   "outputs": [],
   "source": [
    "# get the snapshot num we want to use\n",
    "snapnum = np.int32(config['snapNum'])"
   ]
  },
  {
   "cell_type": "code",
   "execution_count": 13,
   "metadata": {},
   "outputs": [],
   "source": [
    "# get the redshift of current snapshot\n",
    "snap = h5py.File(os.path.join(config['filePath'], \n",
    "                     f'snapdir_{snapnum:03d}/snap_{snapnum:03d}.0.hdf5'), 'r')\n",
    "snapz = dict(snap['Header'].attrs.items())['Redshift']"
   ]
  },
  {
   "cell_type": "code",
   "execution_count": 14,
   "metadata": {},
   "outputs": [],
   "source": [
    "# get the subhalos\n",
    "subhalos = get_subhalos(config['filePath'], snapnum)"
   ]
  },
  {
   "cell_type": "code",
   "execution_count": 15,
   "metadata": {},
   "outputs": [],
   "source": [
    "# get the min and max stellar mass for subhalos\n",
    "minStellarMass = np.float32(config['minStellarMass'])\n",
    "if config['maxStellarMass'] == 'inf':\n",
    "    maxStellarMass = np.inf\n",
    "else:\n",
    "    maxStellarMass = np.float32(config['maxStellarMass'])"
   ]
  },
  {
   "cell_type": "code",
   "execution_count": 16,
   "metadata": {},
   "outputs": [
    {
     "name": "stdout",
     "output_type": "stream",
     "text": [
      "Number of subhalos is 6041 in snapshot 94 in stellar mass range 1.0 to inf [10^10 M_sun]\n"
     ]
    }
   ],
   "source": [
    "# get the SubhaloIDs following the stellar mass condition \n",
    "stellarMass = subhalos['SubhaloMassType'][:, 4] / Planck15.h\n",
    "    \n",
    "subhalo_indices = np.where((stellarMass > minStellarMass) \\\n",
    "                        & (stellarMass < maxStellarMass) \\\n",
    "                        & (subhalos['SubhaloFlag'] == 1) \\\n",
    "                        & (subhalos['SubhaloParent'] == 0))[0]\n",
    "\n",
    "subhaloNums = subhalo_indices.shape[0]\n",
    "print(f'Number of subhalos is {subhaloNums} in snapshot {snapnum} in stellar mass range {minStellarMass} to {maxStellarMass} [10^10 M_sun]')"
   ]
  },
  {
   "cell_type": "code",
   "execution_count": 17,
   "metadata": {},
   "outputs": [
    {
     "data": {
      "text/plain": [
       "array([     0,      1,      2, ..., 644966, 646870, 649674])"
      ]
     },
     "execution_count": 17,
     "metadata": {},
     "output_type": "execute_result"
    }
   ],
   "source": [
    "subhalo_indices"
   ]
  },
  {
   "cell_type": "code",
   "execution_count": 18,
   "metadata": {},
   "outputs": [],
   "source": [
    "# Let us generate the galaxy from subhalo with ID = 1\n",
    "subhaloID = 2"
   ]
  },
  {
   "cell_type": "code",
   "execution_count": 19,
   "metadata": {},
   "outputs": [
    {
     "name": "stdout",
     "output_type": "stream",
     "text": [
      "Stellar Mass: 19.245565835092847 [10^10 M_sun]\n"
     ]
    }
   ],
   "source": [
    "print(f'Stellar Mass: {stellarMass[subhaloID]} [10^10 M_sun]')"
   ]
  },
  {
   "cell_type": "code",
   "execution_count": 20,
   "metadata": {},
   "outputs": [
    {
     "name": "stdout",
     "output_type": "stream",
     "text": [
      "boxLength in kpc:  262.65\n"
     ]
    }
   ],
   "source": [
    "boxLength = subhalos['SubhaloHalfmassRadType'][:, 4][subhaloID] \\\n",
    "        * np.float32(config['boxLengthScale']) / Planck15.h\n",
    "\n",
    "boxLength = np.min([boxLength, np.float32(config['maxBoxLength'])])\n",
    "print('boxLength in kpc: ', np.around(boxLength, 2))"
   ]
  },
  {
   "cell_type": "code",
   "execution_count": 21,
   "metadata": {},
   "outputs": [],
   "source": [
    "# create the working directory for SKIRT\n",
    "workingDir = config['workingDir']\n",
    "os.makedirs(workingDir, exist_ok=True)"
   ]
  },
  {
   "cell_type": "code",
   "execution_count": 22,
   "metadata": {},
   "outputs": [
    {
     "name": "stdout",
     "output_type": "stream",
     "text": [
      "Star-forming star particles: 8\n",
      "Quenched star particles: 202041\n",
      "DUST particles: 0\n"
     ]
    }
   ],
   "source": [
    "# get and save the star-forming, quenched or dust particles\n",
    "particles_from_tng(subhaloID, snapnum, snapz, subhalos, boxLength, config)"
   ]
  },
  {
   "cell_type": "code",
   "execution_count": 23,
   "metadata": {},
   "outputs": [
    {
     "name": "stdout",
     "output_type": "stream",
     "text": [
      "------estimate memory usage------\n",
      "numViews: 3\n",
      "numSpatialPixels: 2638\n",
      "numWavelengthPixels: 300\n",
      "Estimated memory usage: 50.105 GB\n"
     ]
    }
   ],
   "source": [
    "# create .ski file for SKIRT\n",
    "fixedRedshift = np.float32(config['fixedRedshift'])\n",
    "properties = modify_ski_file(fixedRedshift, boxLength, config)"
   ]
  },
  {
   "cell_type": "code",
   "execution_count": 24,
   "metadata": {},
   "outputs": [
    {
     "data": {
      "text/plain": [
       "{'redshift': np.float32(0.06),\n",
       " 'lumiDis': np.float64(277.5121779933121),\n",
       " 'resolution': [np.float64(99.56085841859017),\n",
       "  np.float64(99.56085841859017),\n",
       "  np.float64(99.56085841859017),\n",
       "  np.float64(99.56085841859017),\n",
       "  np.float64(99.56085841859017),\n",
       "  np.float64(99.56085841859017),\n",
       "  np.float64(99.56085841859017)],\n",
       " 'angleRes': [0.074, 0.074, 0.074, 0.074, 0.074, 0.074, 0.074],\n",
       " 'pixelscales_in_sr': [np.float64(1.287102616321e-13),\n",
       "  np.float64(1.287102616321e-13),\n",
       "  np.float64(1.287102616321e-13),\n",
       "  np.float64(1.287102616321e-13),\n",
       "  np.float64(1.287102616321e-13),\n",
       "  np.float64(1.287102616321e-13),\n",
       "  np.float64(1.287102616321e-13)],\n",
       " 'baseRes': np.float64(99.56085841859017),\n",
       " 'inclinations': [0.0, 90.0, 180.0],\n",
       " 'azimuths': [0.0, 90.0, 180.0],\n",
       " 'FoV': np.float64(262650.3875975698)}"
      ]
     },
     "execution_count": 24,
     "metadata": {},
     "output_type": "execute_result"
    }
   ],
   "source": [
    "properties"
   ]
  },
  {
   "cell_type": "markdown",
   "metadata": {},
   "source": [
    "### run SKIRT"
   ]
  },
  {
   "cell_type": "code",
   "execution_count": 26,
   "metadata": {
    "scrolled": true
   },
   "outputs": [
    {
     "name": "stdout",
     "output_type": "stream",
     "text": [
      "23/09/2024 14:28:28.070   Welcome to SKIRT v9.0 (git 382ad4b built on 15/08/2024 at 01:46:45)\n",
      "23/09/2024 14:28:28.070   Running on 2488h for xczhou\n",
      "23/09/2024 14:28:28.070   Constructing a simulation from ski file 'skirt.ski'...\n",
      "23/09/2024 14:28:28.126   Starting simulation skirt using 12 threads and a single process...\n",
      "23/09/2024 14:28:28.126   Starting setup...\n",
      "23/09/2024 14:28:28.126     Panchromatic wavelength regime\n",
      "23/09/2024 14:28:28.126     With transfer medium\n",
      "23/09/2024 14:28:28.126     Redshift: 0.06\n",
      "23/09/2024 14:28:28.126     Luminosity distance: 277.531 Mpc\n",
      "23/09/2024 14:28:28.126     Model and grid symmetry: 3D\n",
      "23/09/2024 14:28:28.126     Photon life cycle: no explicit absorption; with forced scattering\n",
      "23/09/2024 14:28:28.126   BruzualCharlotSEDFamily opened stored table /share/xczhou/SKIRT/resources/SKIRT9_Resources_Core/SED/BruzualCharlotSEDFamily_Chabrier_hr.stab\n",
      "23/09/2024 14:28:28.126   ParticleSource reads smoothed source particles from text file /share/xczhou/illustris/galaxyEmulator/Notebook/run/quenched_stars.txt...\n",
      "23/09/2024 14:28:28.126     Column 1: position x (kpc) <-- x-coordinate\n",
      "23/09/2024 14:28:28.126     Column 2: position y (kpc) <-- y-coordinate\n",
      "23/09/2024 14:28:28.126     Column 3: position z (kpc) <-- z-coordinate\n",
      "23/09/2024 14:28:28.127     Column 4: size h (kpc) <-- smoothing length\n",
      "23/09/2024 14:28:28.127     Column 5: initial mass (Msun) <-- initial mass\n",
      "23/09/2024 14:28:28.127     Column 6: metallicity (1) <-- metallicity\n",
      "23/09/2024 14:28:28.127     Column 7: age (Myr) <-- age\n",
      "23/09/2024 14:28:28.763   Done reading\n",
      "23/09/2024 14:28:28.763     Number of particles: 202041\n",
      "23/09/2024 14:28:28.764   Calculating luminosities for 202041 imported entities...\n",
      "23/09/2024 14:28:35.041   Calculated luminosities: 26.0%\n",
      "23/09/2024 14:28:41.358   Calculated luminosities: 63.5%\n",
      "23/09/2024 14:28:45.677   MappingsSEDFamily opened stored table /share/xczhou/SKIRT/resources/SKIRT9_Resources_Core/SED/MappingsSEDFamily.stab\n",
      "23/09/2024 14:28:45.677   ParticleSource reads smoothed source particles from text file /share/xczhou/illustris/galaxyEmulator/Notebook/run/starforming_stars.txt...\n",
      "23/09/2024 14:28:45.677     Column 1: position x (kpc) <-- x-coordinate\n",
      "23/09/2024 14:28:45.677     Column 2: position y (kpc) <-- y-coordinate\n",
      "23/09/2024 14:28:45.677     Column 3: position z (kpc) <-- z-coordinate\n",
      "23/09/2024 14:28:45.677     Column 4: size h (kpc) <-- smoothing length\n",
      "23/09/2024 14:28:45.677     Column 5: star formation rate (Msun/yr) <-- star formation rate\n",
      "23/09/2024 14:28:45.677     Column 6: metallicity (1) <-- metallicity\n",
      "23/09/2024 14:28:45.677     Column 7: compactness (1) <-- compactness\n",
      "23/09/2024 14:28:45.677     Column 8: pressure (J/m3) <-- pressure\n",
      "23/09/2024 14:28:45.677     Column 9: covering factor (1) <-- coveringFactor\n",
      "23/09/2024 14:28:45.677   Done reading\n",
      "23/09/2024 14:28:45.677     Number of particles: 8\n",
      "23/09/2024 14:28:45.677   Calculating luminosities for 8 imported entities...\n",
      "23/09/2024 14:28:45.678   ZubkoDustMix opened stored table /share/xczhou/SKIRT/resources/SKIRT9_Resources_Core/OpticalProps/DraineSilicateOpticalProps.stab\n",
      "23/09/2024 14:28:45.819   ZubkoDustMix opened stored table /share/xczhou/SKIRT/resources/SKIRT9_Resources_Core/OpticalProps/DraineGraphiteOpticalProps.stab\n",
      "23/09/2024 14:28:45.934   ZubkoDustMix opened stored table /share/xczhou/SKIRT/resources/SKIRT9_Resources_Core/OpticalProps/DraineNeutralPAHOpticalProps.stab\n",
      "23/09/2024 14:28:45.981   ZubkoDustMix opened stored table /share/xczhou/SKIRT/resources/SKIRT9_Resources_Core/OpticalProps/DraineIonizedPAHOpticalProps.stab\n",
      "23/09/2024 14:28:46.027   ZubkoDustMix allocated 43.8 KB of memory\n",
      "23/09/2024 14:28:46.027   ParticleMedium reads smoothed particles from text file /share/xczhou/illustris/galaxyEmulator/Notebook/run/dusts.txt...\n",
      "23/09/2024 14:28:46.027     Column 1: position x (kpc) <-- x-coordinate\n",
      "23/09/2024 14:28:46.027     Column 2: position y (kpc) <-- y-coordinate\n",
      "23/09/2024 14:28:46.027     Column 3: position z (kpc) <-- z-coordinate\n",
      "23/09/2024 14:28:46.027     Column 4: size h (kpc) <-- smoothing length\n",
      "23/09/2024 14:28:46.027     Column 5: mass (Msun) <-- gas mass\n",
      "23/09/2024 14:28:46.027     Column 6: metallicity (1) <-- metallicity\n",
      "23/09/2024 14:28:46.027   Done reading\n",
      "23/09/2024 14:28:46.027     Number of particles: 0\n",
      "23/09/2024 14:28:46.027     Total original mass : 0.0000e+00 Msun\n",
      "23/09/2024 14:28:46.027     Total metallic mass : 0.0000e+00 Msun\n",
      "23/09/2024 14:28:46.027     Total effective mass: 0.0000e+00 Msun\n",
      "23/09/2024 14:28:46.027   Constructing intermediate 20x20x20 grid for particles...\n",
      "23/09/2024 14:28:46.027     Smallest number of particles per cell: 0\n",
      "23/09/2024 14:28:46.027     Largest  number of particles per cell: 0\n",
      "23/09/2024 14:28:46.027     Average  number of particles per cell: 0.0\n",
      "23/09/2024 14:28:46.027   Constructing the spatial tree grid...\n",
      "23/09/2024 14:28:46.027   Subdividing level 0: 1 nodes\n",
      "23/09/2024 14:28:46.027   Subdividing level 1: 8 nodes\n",
      "23/09/2024 14:28:46.027   Subdividing level 2: 64 nodes\n",
      "23/09/2024 14:28:46.028   Subdividing level 3: 512 nodes\n",
      "23/09/2024 14:28:46.031   Subdividing level 4: 4096 nodes\n",
      "23/09/2024 14:28:46.059   Subdividing level 5: 32768 nodes\n",
      "23/09/2024 14:28:46.296   Subdividing level 6: 262144 nodes\n",
      "23/09/2024 14:28:46.669   Finished construction of the spatial tree grid\n",
      "23/09/2024 14:28:46.669   Number of cells at each level in the tree hierarchy:\n",
      "23/09/2024 14:28:46.669     Level  0:        0 (  0.0%)  |\n",
      "23/09/2024 14:28:46.669     Level  1:        0 (  0.0%)  |\n",
      "23/09/2024 14:28:46.669     Level  2:        0 (  0.0%)  |\n",
      "23/09/2024 14:28:46.669     Level  3:        0 (  0.0%)  |\n",
      "23/09/2024 14:28:46.669     Level  4:        0 (  0.0%)  |\n",
      "23/09/2024 14:28:46.669     Level  5:        0 (  0.0%)  |\n",
      "23/09/2024 14:28:46.669     Level  6:   262144 (100.0%)  |********************\n",
      "23/09/2024 14:28:46.669     TOTAL   :   262144 (100.0%)\n",
      "23/09/2024 14:28:46.671   MediumSystem allocated 4 MB of memory\n",
      "23/09/2024 14:28:46.671   Calculating medium properties for 262144 cells...\n",
      "23/09/2024 14:28:46.895   Done calculating cell densities\n",
      "23/09/2024 14:28:54.397   FullInstrument view_00 allocated 15.6 GB of memory\n",
      "23/09/2024 14:29:01.884   FullInstrument view_01 allocated 15.6 GB of memory\n",
      "23/09/2024 14:29:10.579   FullInstrument view_02 allocated 15.6 GB of memory\n",
      "\u001b[32m23/09/2024 14:29:10.579 - Finished setup in 42.5 s.\n",
      "\u001b[0m23/09/2024 14:29:10.579   Starting setup output...\n",
      "\u001b[32m23/09/2024 14:29:10.579 - Finished setup output in 0.0 s.\n",
      "\u001b[0m23/09/2024 14:29:10.579   Starting the run...\n",
      "23/09/2024 14:29:10.579   Starting primary emission...\n",
      "23/09/2024 14:29:10.579   Launching 1e7 primary emission photon packets\n",
      "23/09/2024 14:29:15.580   Launched primary emission photon packets: 11.4%\n",
      "23/09/2024 14:29:20.585   Launched primary emission photon packets: 22.9%\n",
      "23/09/2024 14:29:25.595   Launched primary emission photon packets: 34.1%\n",
      "23/09/2024 14:29:30.596   Launched primary emission photon packets: 45.7%\n",
      "23/09/2024 14:29:35.597   Launched primary emission photon packets: 57.4%\n",
      "23/09/2024 14:29:40.598   Launched primary emission photon packets: 68.2%\n",
      "23/09/2024 14:29:45.599   Launched primary emission photon packets: 86.4%\n",
      "\u001b[32m23/09/2024 14:29:49.010 - Finished primary emission in 38.4 s.\n",
      "\u001b[0m\u001b[32m23/09/2024 14:29:49.010 - Finished the run in 38.4 s.\n",
      "\u001b[0m23/09/2024 14:29:49.010   Starting final output...\n",
      "23/09/2024 14:29:53.344   FullInstrument view_00 wrote SED to /share/xczhou/illustris/galaxyEmulator/Notebook/run/skirt_view_00_sed.dat\n",
      "23/09/2024 14:30:03.834   FullInstrument view_00 wrote total flux to FITS file /share/xczhou/illustris/galaxyEmulator/Notebook/run/skirt_view_00_total.fits\n",
      "23/09/2024 14:30:08.526   FullInstrument view_01 wrote SED to /share/xczhou/illustris/galaxyEmulator/Notebook/run/skirt_view_01_sed.dat\n",
      "23/09/2024 14:30:19.539   FullInstrument view_01 wrote total flux to FITS file /share/xczhou/illustris/galaxyEmulator/Notebook/run/skirt_view_01_total.fits\n",
      "23/09/2024 14:30:25.100   FullInstrument view_02 wrote SED to /share/xczhou/illustris/galaxyEmulator/Notebook/run/skirt_view_02_sed.dat\n",
      "23/09/2024 14:30:35.482   FullInstrument view_02 wrote total flux to FITS file /share/xczhou/illustris/galaxyEmulator/Notebook/run/skirt_view_02_total.fits\n",
      "\u001b[32m23/09/2024 14:30:35.482 - Finished final output in 46.5 s.\n",
      "\u001b[0m\u001b[32m23/09/2024 14:30:35.482 - Finished simulation skirt using 12 threads and a single process in 127 s (2m 7s).\n",
      "\u001b[0m23/09/2024 14:30:38.607   Available memory: 503 GB -- Peak memory usage: 46.9 GB (9.3%)\n"
     ]
    },
    {
     "data": {
      "text/plain": [
       "0"
      ]
     },
     "execution_count": 26,
     "metadata": {},
     "output_type": "execute_result"
    }
   ],
   "source": [
    "# run SKIRT, this will take some time and memory\n",
    "run_skirt(config)"
   ]
  },
  {
   "cell_type": "markdown",
   "metadata": {},
   "source": [
    "### postprocessing for calculating bandpass images, save them and clean the workingDir"
   ]
  },
  {
   "cell_type": "code",
   "execution_count": 27,
   "metadata": {},
   "outputs": [
    {
     "name": "stdout",
     "output_type": "stream",
     "text": [
      "Considered survey(s) ['CSST']\n"
     ]
    }
   ],
   "source": [
    "postprocess(subhaloID, properties, config)"
   ]
  },
  {
   "cell_type": "code",
   "execution_count": null,
   "metadata": {},
   "outputs": [],
   "source": []
  }
 ],
 "metadata": {
  "kernelspec": {
   "display_name": "skirt",
   "language": "python",
   "name": "skirt"
  },
  "language_info": {
   "codemirror_mode": {
    "name": "ipython",
    "version": 3
   },
   "file_extension": ".py",
   "mimetype": "text/x-python",
   "name": "python",
   "nbconvert_exporter": "python",
   "pygments_lexer": "ipython3",
   "version": "3.11.9"
  }
 },
 "nbformat": 4,
 "nbformat_minor": 4
}
